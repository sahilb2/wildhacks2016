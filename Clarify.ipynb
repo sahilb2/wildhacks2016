{
 "cells": [
  {
   "cell_type": "raw",
   "metadata": {
    "collapsed": false
   },
   "source": []
  },
  {
   "cell_type": "code",
   "execution_count": 50,
   "metadata": {
    "collapsed": false,
    "scrolled": false
   },
   "outputs": [
    {
     "name": "stderr",
     "output_type": "stream",
     "text": [
      "Base url: https://api.clarifai.com\n",
      "get_token: https://api.clarifai.com/v2/token data: {'grant_type': 'client_credentials'}\n",
      "Got V2 token: {u'status': {u'code': 10000, u'description': u'Ok'}, u'access_token': u'mMlYssiCYpo6qsRfxfR7WDbRyLsc62', u'expires_in': 176400, u'scope': u'api_access_write api_access api_access_read'}\n",
      "====================================================================================================\n",
      "GET https://api.clarifai.com/v2/models/NSFWBlock\n",
      "HEADERS:\n",
      "{}\n",
      "PAYLOAD:\n",
      "None\n",
      "\n",
      "RESULT:\n",
      "{u'status': {u'code': 11101,\n",
      "             u'description': u'Resource does not exist',\n",
      "             u'details': u\"model_id 'NSFWBlock' not found. Check the url of your request.\"}}\n",
      "====================================================================================================\n",
      "POST https://api.clarifai.com/v2/models/searches\n",
      "HEADERS:\n",
      "{}\n",
      "PAYLOAD:\n",
      "{'model_query': {'name': 'NSFWBlock', 'type': 'concept'}}\n",
      "\n",
      "RESULT:\n",
      "{u'models': [{u'app_id': u'fd9f616d0734484190a2b39796a44a6b',\n",
      "              u'created_at': u'2016-11-19T19:39:04Z',\n",
      "              u'id': u'ad3680edad8841e89b810f97dc0ac2ec',\n",
      "              u'model_version': {u'created_at': u'2016-11-20T07:01:06Z',\n",
      "                                 u'id': u'b682e1c67c9340228195d5bce0bcc1e6',\n",
      "                                 u'status': {u'code': 21100,\n",
      "                                             u'description': u'Model trained successfully'}},\n",
      "              u'name': u'NSFWBlock',\n",
      "              u'output_info': {u'message': u'Show output_info with: GET /models/{model_id}/output_info',\n",
      "                               u'output_config': {u'closed_environment': False,\n",
      "                                                  u'concepts_mutually_exclusive': False},\n",
      "                               u'type': u'concept'}}],\n",
      " u'status': {u'code': 10000, u'description': u'Ok'}}\n",
      "====================================================================================================\n",
      "POST https://api.clarifai.com/v2/models/ad3680edad8841e89b810f97dc0ac2ec/versions/b682e1c67c9340228195d5bce0bcc1e6/outputs\n",
      "HEADERS:\n",
      "{}\n",
      "PAYLOAD:\n",
      "{'inputs': [{'data': {'image': {'allow_duplicate_url': False,\n",
      "                                'url': 'http://i.imgur.com/YZDcqH9.jpg'}}}]}\n",
      "\n",
      "RESULT:\n",
      "{u'outputs': [{u'created_at': u'2016-11-20T07:05:44Z',\n",
      "               u'data': {u'concepts': [{u'app_id': u'fd9f616d0734484190a2b39796a44a6b',\n",
      "                                        u'id': u'genitals',\n",
      "                                        u'name': u'genitals',\n",
      "                                        u'value': 0.28918743},\n",
      "                                       {u'app_id': u'fd9f616d0734484190a2b39796a44a6b',\n",
      "                                        u'id': u'penis',\n",
      "                                        u'name': u'penis',\n",
      "                                        u'value': 0.28390983},\n",
      "                                       {u'app_id': u'fd9f616d0734484190a2b39796a44a6b',\n",
      "                                        u'id': u'nude',\n",
      "                                        u'name': u'nude',\n",
      "                                        u'value': 0.27496183},\n",
      "                                       {u'app_id': u'fd9f616d0734484190a2b39796a44a6b',\n",
      "                                        u'id': u'sex',\n",
      "                                        u'name': u'sex',\n",
      "                                        u'value': 0.21871547},\n",
      "                                       {u'app_id': u'fd9f616d0734484190a2b39796a44a6b',\n",
      "                                        u'id': u'safe',\n",
      "                                        u'name': u'safe',\n",
      "                                        u'value': 0.14890838},\n",
      "                                       {u'app_id': u'fd9f616d0734484190a2b39796a44a6b',\n",
      "                                        u'id': u'gore',\n",
      "                                        u'name': u'gore',\n",
      "                                        u'value': 0.074542984},\n",
      "                                       {u'app_id': u'fd9f616d0734484190a2b39796a44a6b',\n",
      "                                        u'id': u'blood',\n",
      "                                        u'name': u'blood',\n",
      "                                        u'value': 0.06704553},\n",
      "                                       {u'app_id': u'fd9f616d0734484190a2b39796a44a6b',\n",
      "                                        u'id': u'nipples',\n",
      "                                        u'name': u'nipples',\n",
      "                                        u'value': 0.021791141},\n",
      "                                       {u'app_id': u'fd9f616d0734484190a2b39796a44a6b',\n",
      "                                        u'id': u'pregnant',\n",
      "                                        u'name': u'pregnant',\n",
      "                                        u'value': 0.020744493},\n",
      "                                       {u'app_id': u'fd9f616d0734484190a2b39796a44a6b',\n",
      "                                        u'id': u'breast',\n",
      "                                        u'name': u'breast',\n",
      "                                        u'value': 0.020582262}]},\n",
      "               u'id': u'cd5d31e47daa4fa8a1caaba2e1cf3254',\n",
      "               u'input': {u'data': {u'image': {u'url': u'http://i.imgur.com/YZDcqH9.jpg'}},\n",
      "                          u'id': u'cd5d31e47daa4fa8a1caaba2e1cf3254'},\n",
      "               u'model': {u'app_id': u'fd9f616d0734484190a2b39796a44a6b',\n",
      "                          u'created_at': u'2016-11-19T19:39:04Z',\n",
      "                          u'id': u'ad3680edad8841e89b810f97dc0ac2ec',\n",
      "                          u'model_version': {u'created_at': u'2016-11-20T07:01:06Z',\n",
      "                                             u'id': u'b682e1c67c9340228195d5bce0bcc1e6',\n",
      "                                             u'status': {u'code': 21100,\n",
      "                                                         u'description': u'Model trained successfully'}},\n",
      "                          u'name': u'NSFWBlock',\n",
      "                          u'output_info': {u'message': u'Show output_info with: GET /models/{model_id}/output_info',\n",
      "                                           u'output_config': {u'closed_environment': False,\n",
      "                                                              u'concepts_mutually_exclusive': False},\n",
      "                                           u'type': u'concept'}},\n",
      "               u'status': {u'code': 10000, u'description': u'Ok'}}],\n",
      " u'status': {u'code': 10000, u'description': u'Ok'}}\n"
     ]
    },
    {
     "name": "stdout",
     "output_type": "stream",
     "text": [
      "NSFW\n"
     ]
    }
   ],
   "source": [
    "from clarifai.rest import ClarifaiApp\n",
    "app = ClarifaiApp()\n",
    "model = app.models.get('NSFWBlock')\n",
    "#model.train()\n",
    "def isSFW(link):\n",
    "    nsfw_data =  model.predict_by_url(link)['outputs'][0]['data']['concepts']\n",
    "    if nsfw_data[0]['name'] == 'safe': return True\n",
    "    else: return False\n",
    "\n"
   ]
  }
 ],
 "metadata": {
  "kernelspec": {
   "display_name": "Python 2",
   "language": "python",
   "name": "python2"
  },
  "language_info": {
   "codemirror_mode": {
    "name": "ipython",
    "version": 2
   },
   "file_extension": ".py",
   "mimetype": "text/x-python",
   "name": "python",
   "nbconvert_exporter": "python",
   "pygments_lexer": "ipython2",
   "version": "2.7.12"
  }
 },
 "nbformat": 4,
 "nbformat_minor": 1
}
